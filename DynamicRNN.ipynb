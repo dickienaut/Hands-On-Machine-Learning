{
 "cells": [
  {
   "cell_type": "markdown",
   "metadata": {},
   "source": [
    "# Classifying MNIST with RNN"
   ]
  },
  {
   "cell_type": "code",
   "execution_count": 1,
   "metadata": {},
   "outputs": [],
   "source": [
    "import tensorflow as tf\n",
    "from tensorflow.examples.tutorials.mnist import input_data\n",
    "import numpy as np"
   ]
  },
  {
   "cell_type": "code",
   "execution_count": 2,
   "metadata": {},
   "outputs": [],
   "source": [
    "#pd.set_option(\"display.max_rows\", 200)\n",
    "#pd.set_option(\"display.max_columns\",None)\n",
    "#pd.set_option('display.float_format', lambda x: '%.4f' % x)"
   ]
  },
  {
   "cell_type": "code",
   "execution_count": 3,
   "metadata": {
    "collapsed": true
   },
   "outputs": [],
   "source": [
    "n_steps = 28\n",
    "n_inputs = 28\n",
    "n_neurons = 300\n",
    "n_outputs = 10\n",
    "\n",
    "n_epochs = 100\n",
    "batch_size = 300\n",
    "\n",
    "learning_rate = 0.0005"
   ]
  },
  {
   "cell_type": "code",
   "execution_count": 4,
   "metadata": {},
   "outputs": [
    {
     "name": "stdout",
     "output_type": "stream",
     "text": [
      "Extracting /tmp/data/train-images-idx3-ubyte.gz\n",
      "Extracting /tmp/data/train-labels-idx1-ubyte.gz\n",
      "Extracting /tmp/data/t10k-images-idx3-ubyte.gz\n",
      "Extracting /tmp/data/t10k-labels-idx1-ubyte.gz\n"
     ]
    }
   ],
   "source": [
    "mnist = input_data.read_data_sets('/tmp/data/')\n",
    "X_test = mnist.test.images.reshape((-1, n_steps, n_inputs))\n",
    "y_test = mnist.test.labels"
   ]
  },
  {
   "cell_type": "code",
   "execution_count": 5,
   "metadata": {
    "collapsed": true
   },
   "outputs": [],
   "source": [
    "X = tf.placeholder(tf.float32, [None, n_steps, n_inputs])\n",
    "y = tf.placeholder(tf.int32, [None])"
   ]
  },
  {
   "cell_type": "code",
   "execution_count": 6,
   "metadata": {
    "collapsed": true
   },
   "outputs": [],
   "source": [
    "basic_cell = tf.contrib.rnn.BasicRNNCell(num_units=n_neurons)\n",
    "outputs, states = tf.nn.dynamic_rnn(basic_cell, X, dtype=tf.float32)"
   ]
  },
  {
   "cell_type": "code",
   "execution_count": 7,
   "metadata": {
    "collapsed": true
   },
   "outputs": [],
   "source": [
    "logits = tf.layers.dense(states, n_outputs)\n",
    "x_entropy = tf.nn.sparse_softmax_cross_entropy_with_logits(labels=y, logits=logits)"
   ]
  },
  {
   "cell_type": "code",
   "execution_count": 8,
   "metadata": {
    "collapsed": true
   },
   "outputs": [],
   "source": [
    "loss = tf.reduce_mean(x_entropy)\n",
    "optimizer = tf.train.AdamOptimizer(learning_rate=learning_rate)\n",
    "training_op = optimizer.minimize(loss)\n",
    "correct = tf.nn.in_top_k(logits, y, 1)\n",
    "accuracy = tf.reduce_mean(tf.cast(correct, tf.float32))"
   ]
  },
  {
   "cell_type": "code",
   "execution_count": 9,
   "metadata": {},
   "outputs": [],
   "source": [
    "tf.variable_scope('rnn', initializer=tf.contrib.layers.variance_scaling_initializer(factor=1.0, mode='FAN_AVG', uniform=True))\n",
    "init = tf.global_variables_initializer()"
   ]
  },
  {
   "cell_type": "code",
   "execution_count": 10,
   "metadata": {
    "scrolled": false
   },
   "outputs": [
    {
     "name": "stdout",
     "output_type": "stream",
     "text": [
      "0 Training Accuracy: 0.913333 Test Accuracy: 0.9338\n",
      "1 Training Accuracy: 0.943333 Test Accuracy: 0.9471\n",
      "2 Training Accuracy: 0.956667 Test Accuracy: 0.964\n",
      "3 Training Accuracy: 0.966667 Test Accuracy: 0.9611\n",
      "4 Training Accuracy: 0.973333 Test Accuracy: 0.9695\n",
      "5 Training Accuracy: 0.96 Test Accuracy: 0.9693\n",
      "6 Training Accuracy: 0.983333 Test Accuracy: 0.9753\n",
      "7 Training Accuracy: 0.986667 Test Accuracy: 0.9753\n",
      "8 Training Accuracy: 0.993333 Test Accuracy: 0.9749\n",
      "9 Training Accuracy: 0.99 Test Accuracy: 0.9735\n",
      "10 Training Accuracy: 0.983333 Test Accuracy: 0.9791\n",
      "11 Training Accuracy: 0.996667 Test Accuracy: 0.9775\n",
      "12 Training Accuracy: 0.97 Test Accuracy: 0.9778\n",
      "13 Training Accuracy: 0.996667 Test Accuracy: 0.9793\n",
      "14 Training Accuracy: 0.99 Test Accuracy: 0.9737\n",
      "15 Training Accuracy: 0.973333 Test Accuracy: 0.9803\n",
      "16 Training Accuracy: 0.986667 Test Accuracy: 0.9814\n",
      "17 Training Accuracy: 0.996667 Test Accuracy: 0.9767\n",
      "18 Training Accuracy: 1.0 Test Accuracy: 0.98\n",
      "19 Training Accuracy: 0.996667 Test Accuracy: 0.9809\n",
      "20 Training Accuracy: 1.0 Test Accuracy: 0.9794\n",
      "21 Training Accuracy: 0.986667 Test Accuracy: 0.9819\n",
      "22 Training Accuracy: 0.99 Test Accuracy: 0.9812\n",
      "23 Training Accuracy: 0.996667 Test Accuracy: 0.9794\n",
      "24 Training Accuracy: 0.993333 Test Accuracy: 0.9822\n",
      "25 Training Accuracy: 0.996667 Test Accuracy: 0.9788\n",
      "26 Training Accuracy: 1.0 Test Accuracy: 0.9804\n",
      "27 Training Accuracy: 0.993333 Test Accuracy: 0.9799\n",
      "28 Training Accuracy: 0.996667 Test Accuracy: 0.9843\n",
      "29 Training Accuracy: 0.99 Test Accuracy: 0.9788\n",
      "30 Training Accuracy: 0.993333 Test Accuracy: 0.9816\n",
      "31 Training Accuracy: 0.99 Test Accuracy: 0.9832\n",
      "32 Training Accuracy: 1.0 Test Accuracy: 0.9814\n",
      "33 Training Accuracy: 0.983333 Test Accuracy: 0.9827\n",
      "34 Training Accuracy: 0.993333 Test Accuracy: 0.9807\n",
      "35 Training Accuracy: 0.986667 Test Accuracy: 0.9792\n",
      "36 Training Accuracy: 0.996667 Test Accuracy: 0.981\n",
      "37 Training Accuracy: 1.0 Test Accuracy: 0.9828\n",
      "38 Training Accuracy: 0.993333 Test Accuracy: 0.9813\n",
      "39 Training Accuracy: 0.996667 Test Accuracy: 0.982\n",
      "40 Training Accuracy: 1.0 Test Accuracy: 0.985\n",
      "41 Training Accuracy: 0.993333 Test Accuracy: 0.9803\n",
      "42 Training Accuracy: 0.993333 Test Accuracy: 0.9778\n",
      "43 Training Accuracy: 0.993333 Test Accuracy: 0.9828\n",
      "44 Training Accuracy: 1.0 Test Accuracy: 0.9804\n",
      "45 Training Accuracy: 0.996667 Test Accuracy: 0.9844\n",
      "46 Training Accuracy: 0.996667 Test Accuracy: 0.9794\n",
      "47 Training Accuracy: 0.996667 Test Accuracy: 0.9812\n",
      "48 Training Accuracy: 0.996667 Test Accuracy: 0.9805\n",
      "49 Training Accuracy: 1.0 Test Accuracy: 0.9835\n",
      "50 Training Accuracy: 0.996667 Test Accuracy: 0.9842\n",
      "51 Training Accuracy: 0.996667 Test Accuracy: 0.982\n",
      "52 Training Accuracy: 0.996667 Test Accuracy: 0.9814\n",
      "53 Training Accuracy: 1.0 Test Accuracy: 0.9836\n",
      "54 Training Accuracy: 1.0 Test Accuracy: 0.9805\n",
      "55 Training Accuracy: 0.996667 Test Accuracy: 0.9818\n",
      "56 Training Accuracy: 1.0 Test Accuracy: 0.9844\n",
      "57 Training Accuracy: 0.996667 Test Accuracy: 0.9815\n",
      "58 Training Accuracy: 1.0 Test Accuracy: 0.9812\n",
      "59 Training Accuracy: 0.996667 Test Accuracy: 0.9831\n",
      "60 Training Accuracy: 1.0 Test Accuracy: 0.9804\n",
      "61 Training Accuracy: 1.0 Test Accuracy: 0.9857\n",
      "62 Training Accuracy: 1.0 Test Accuracy: 0.9878\n",
      "63 Training Accuracy: 1.0 Test Accuracy: 0.9822\n",
      "64 Training Accuracy: 1.0 Test Accuracy: 0.9814\n",
      "65 Training Accuracy: 1.0 Test Accuracy: 0.9853\n",
      "66 Training Accuracy: 1.0 Test Accuracy: 0.9816\n",
      "67 Training Accuracy: 1.0 Test Accuracy: 0.9832\n",
      "68 Training Accuracy: 0.996667 Test Accuracy: 0.9799\n",
      "69 Training Accuracy: 0.996667 Test Accuracy: 0.9831\n",
      "70 Training Accuracy: 1.0 Test Accuracy: 0.983\n",
      "71 Training Accuracy: 1.0 Test Accuracy: 0.9857\n",
      "72 Training Accuracy: 1.0 Test Accuracy: 0.9842\n",
      "73 Training Accuracy: 0.996667 Test Accuracy: 0.9786\n",
      "74 Training Accuracy: 1.0 Test Accuracy: 0.9811\n",
      "75 Training Accuracy: 1.0 Test Accuracy: 0.9849\n",
      "76 Training Accuracy: 0.996667 Test Accuracy: 0.9829\n",
      "77 Training Accuracy: 1.0 Test Accuracy: 0.9805\n",
      "78 Training Accuracy: 1.0 Test Accuracy: 0.9817\n",
      "79 Training Accuracy: 0.996667 Test Accuracy: 0.9839\n",
      "80 Training Accuracy: 1.0 Test Accuracy: 0.9825\n",
      "81 Training Accuracy: 1.0 Test Accuracy: 0.9853\n",
      "82 Training Accuracy: 1.0 Test Accuracy: 0.9829\n",
      "83 Training Accuracy: 0.996667 Test Accuracy: 0.9841\n",
      "84 Training Accuracy: 1.0 Test Accuracy: 0.9842\n",
      "85 Training Accuracy: 0.996667 Test Accuracy: 0.9837\n",
      "86 Training Accuracy: 1.0 Test Accuracy: 0.984\n",
      "87 Training Accuracy: 1.0 Test Accuracy: 0.982\n",
      "88 Training Accuracy: 1.0 Test Accuracy: 0.9814\n",
      "89 Training Accuracy: 1.0 Test Accuracy: 0.986\n",
      "90 Training Accuracy: 1.0 Test Accuracy: 0.9854\n",
      "91 Training Accuracy: 0.996667 Test Accuracy: 0.979\n",
      "92 Training Accuracy: 0.993333 Test Accuracy: 0.9825\n",
      "93 Training Accuracy: 0.993333 Test Accuracy: 0.9818\n",
      "94 Training Accuracy: 1.0 Test Accuracy: 0.9857\n",
      "95 Training Accuracy: 1.0 Test Accuracy: 0.9878\n",
      "96 Training Accuracy: 1.0 Test Accuracy: 0.9827\n",
      "97 Training Accuracy: 1.0 Test Accuracy: 0.9828\n",
      "98 Training Accuracy: 1.0 Test Accuracy: 0.9867\n",
      "99 Training Accuracy: 1.0 Test Accuracy: 0.9746\n"
     ]
    }
   ],
   "source": [
    "with tf.Session() as session:\n",
    "    init.run()\n",
    "    for epoch in range(n_epochs):\n",
    "        for i in range(mnist.train.num_examples // batch_size):\n",
    "            X_batch, y_batch = mnist.train.next_batch(batch_size)\n",
    "            X_batch = X_batch.reshape((-1, n_steps, n_inputs))\n",
    "            session.run(training_op, feed_dict={X: X_batch, y: y_batch})\n",
    "        acc_train = accuracy.eval(feed_dict={X: X_batch, y: y_batch})\n",
    "        acc_test = accuracy.eval(feed_dict={X: X_test, y: y_test})\n",
    "        print(epoch, \"Training Accuracy:\", acc_train, \"Test Accuracy:\", acc_test)"
   ]
  }
 ],
 "metadata": {
  "kernelspec": {
   "display_name": "Python 3",
   "language": "python",
   "name": "python3"
  },
  "language_info": {
   "codemirror_mode": {
    "name": "ipython",
    "version": 3
   },
   "file_extension": ".py",
   "mimetype": "text/x-python",
   "name": "python",
   "nbconvert_exporter": "python",
   "pygments_lexer": "ipython3",
   "version": "3.6.2"
  }
 },
 "nbformat": 4,
 "nbformat_minor": 2
}
